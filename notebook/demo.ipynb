{
 "cells": [
  {
   "cell_type": "code",
   "execution_count": 5,
   "metadata": {},
   "outputs": [],
   "source": [
    "import os\n",
    "import sys\n",
    "import numpy as np\n",
    "import laspy as lp\n",
    "from shapely.geometry import Polygon\n",
    "import pandas as pd\n",
    "sys.path.append(os.path.abspath(os.path.join('../scripts')))\n",
    "from fetch_data import FetchAndLoad\n",
    "from file_helper import FileHelper"
   ]
  },
  {
   "cell_type": "code",
   "execution_count": 16,
   "metadata": {},
   "outputs": [
    {
     "name": "stdout",
     "output_type": "stream",
     "text": [
      "Run pipe ...\n",
      "data LInk :  https://s3-us-west-2.amazonaws.com/usgs-lidar-public/IA_FullState/ept.json\n",
      "Fetching Completed!\n"
     ]
    }
   ],
   "source": [
    "MINX, MINY, MAXX, MAXY = [-93.756155, 41.918015, -93.747334, 41.921429]\n",
    "polygon = Polygon(((MINX, MINY), (MINX, MAXY), (MAXX, MAXY), (MAXX, MINY), (MINX, MINY)))\n",
    "lp = FetchAndLoad(polygon)\n",
    "lp.run_pipe()"
   ]
  },
  {
   "cell_type": "code",
   "execution_count": 17,
   "metadata": {},
   "outputs": [
    {
     "name": "stdout",
     "output_type": "stream",
     "text": [
      "Reading Las File from : IA_FullState.las\n",
      "Generating Points from las File ...\n",
      "Finished Generating Points!\n",
      "Making Geopandas Data Frame...\n",
      "Finished Making Geopandas Data Frame!\n"
     ]
    }
   ],
   "source": [
    "lp.create_geopandasdf()\n",
    "new_result =  lp.get_geopandas_df()"
   ]
  },
  {
   "cell_type": "code",
   "execution_count": 22,
   "metadata": {},
   "outputs": [
    {
     "data": {
      "text/html": [
       "<div>\n",
       "<style scoped>\n",
       "    .dataframe tbody tr th:only-of-type {\n",
       "        vertical-align: middle;\n",
       "    }\n",
       "\n",
       "    .dataframe tbody tr th {\n",
       "        vertical-align: top;\n",
       "    }\n",
       "\n",
       "    .dataframe thead th {\n",
       "        text-align: right;\n",
       "    }\n",
       "</style>\n",
       "<table border=\"1\" class=\"dataframe\">\n",
       "  <thead>\n",
       "    <tr style=\"text-align: right;\">\n",
       "      <th></th>\n",
       "      <th>elevation</th>\n",
       "      <th>geometry</th>\n",
       "    </tr>\n",
       "  </thead>\n",
       "  <tbody>\n",
       "    <tr>\n",
       "      <th>0</th>\n",
       "      <td>317.59</td>\n",
       "      <td>POINT (-93.75000 41.92000)</td>\n",
       "    </tr>\n",
       "    <tr>\n",
       "      <th>1</th>\n",
       "      <td>317.42</td>\n",
       "      <td>POINT (-93.75000 41.92000)</td>\n",
       "    </tr>\n",
       "    <tr>\n",
       "      <th>2</th>\n",
       "      <td>317.27</td>\n",
       "      <td>POINT (-93.75000 41.92000)</td>\n",
       "    </tr>\n",
       "    <tr>\n",
       "      <th>3</th>\n",
       "      <td>317.28</td>\n",
       "      <td>POINT (-93.75000 41.92000)</td>\n",
       "    </tr>\n",
       "    <tr>\n",
       "      <th>4</th>\n",
       "      <td>317.25</td>\n",
       "      <td>POINT (-93.75000 41.92000)</td>\n",
       "    </tr>\n",
       "    <tr>\n",
       "      <th>...</th>\n",
       "      <td>...</td>\n",
       "      <td>...</td>\n",
       "    </tr>\n",
       "    <tr>\n",
       "      <th>401488</th>\n",
       "      <td>317.36</td>\n",
       "      <td>POINT (-93.75000 41.92000)</td>\n",
       "    </tr>\n",
       "    <tr>\n",
       "      <th>401489</th>\n",
       "      <td>317.34</td>\n",
       "      <td>POINT (-93.75000 41.92000)</td>\n",
       "    </tr>\n",
       "    <tr>\n",
       "      <th>401490</th>\n",
       "      <td>317.46</td>\n",
       "      <td>POINT (-93.75000 41.92000)</td>\n",
       "    </tr>\n",
       "    <tr>\n",
       "      <th>401491</th>\n",
       "      <td>317.53</td>\n",
       "      <td>POINT (-93.75000 41.92000)</td>\n",
       "    </tr>\n",
       "    <tr>\n",
       "      <th>401492</th>\n",
       "      <td>317.79</td>\n",
       "      <td>POINT (-93.75000 41.92000)</td>\n",
       "    </tr>\n",
       "  </tbody>\n",
       "</table>\n",
       "<p>401493 rows × 2 columns</p>\n",
       "</div>"
      ],
      "text/plain": [
       "        elevation                    geometry\n",
       "0          317.59  POINT (-93.75000 41.92000)\n",
       "1          317.42  POINT (-93.75000 41.92000)\n",
       "2          317.27  POINT (-93.75000 41.92000)\n",
       "3          317.28  POINT (-93.75000 41.92000)\n",
       "4          317.25  POINT (-93.75000 41.92000)\n",
       "...           ...                         ...\n",
       "401488     317.36  POINT (-93.75000 41.92000)\n",
       "401489     317.34  POINT (-93.75000 41.92000)\n",
       "401490     317.46  POINT (-93.75000 41.92000)\n",
       "401491     317.53  POINT (-93.75000 41.92000)\n",
       "401492     317.79  POINT (-93.75000 41.92000)\n",
       "\n",
       "[401493 rows x 2 columns]"
      ]
     },
     "execution_count": 22,
     "metadata": {},
     "output_type": "execute_result"
    }
   ],
   "source": [
    "new_result"
   ]
  },
  {
   "cell_type": "code",
   "execution_count": 24,
   "metadata": {},
   "outputs": [],
   "source": [
    "new_result.to_csv('IA_FullState.csv', index=False)"
   ]
  },
  {
   "cell_type": "code",
   "execution_count": 25,
   "metadata": {},
   "outputs": [],
   "source": [
    "\n",
    "read_geo_csv = pd.read_csv('IA_FullState.csv')"
   ]
  },
  {
   "cell_type": "code",
   "execution_count": 26,
   "metadata": {},
   "outputs": [
    {
     "data": {
      "text/html": [
       "<div>\n",
       "<style scoped>\n",
       "    .dataframe tbody tr th:only-of-type {\n",
       "        vertical-align: middle;\n",
       "    }\n",
       "\n",
       "    .dataframe tbody tr th {\n",
       "        vertical-align: top;\n",
       "    }\n",
       "\n",
       "    .dataframe thead th {\n",
       "        text-align: right;\n",
       "    }\n",
       "</style>\n",
       "<table border=\"1\" class=\"dataframe\">\n",
       "  <thead>\n",
       "    <tr style=\"text-align: right;\">\n",
       "      <th></th>\n",
       "      <th>elevation</th>\n",
       "      <th>geometry</th>\n",
       "    </tr>\n",
       "  </thead>\n",
       "  <tbody>\n",
       "    <tr>\n",
       "      <th>0</th>\n",
       "      <td>317.59</td>\n",
       "      <td>POINT (-93.75 41.92)</td>\n",
       "    </tr>\n",
       "    <tr>\n",
       "      <th>1</th>\n",
       "      <td>317.42</td>\n",
       "      <td>POINT (-93.75 41.92)</td>\n",
       "    </tr>\n",
       "    <tr>\n",
       "      <th>2</th>\n",
       "      <td>317.27</td>\n",
       "      <td>POINT (-93.75 41.92)</td>\n",
       "    </tr>\n",
       "    <tr>\n",
       "      <th>3</th>\n",
       "      <td>317.28</td>\n",
       "      <td>POINT (-93.75 41.92)</td>\n",
       "    </tr>\n",
       "    <tr>\n",
       "      <th>4</th>\n",
       "      <td>317.25</td>\n",
       "      <td>POINT (-93.75 41.92)</td>\n",
       "    </tr>\n",
       "  </tbody>\n",
       "</table>\n",
       "</div>"
      ],
      "text/plain": [
       "   elevation              geometry\n",
       "0     317.59  POINT (-93.75 41.92)\n",
       "1     317.42  POINT (-93.75 41.92)\n",
       "2     317.27  POINT (-93.75 41.92)\n",
       "3     317.28  POINT (-93.75 41.92)\n",
       "4     317.25  POINT (-93.75 41.92)"
      ]
     },
     "execution_count": 26,
     "metadata": {},
     "output_type": "execute_result"
    }
   ],
   "source": [
    "read_geo_csv.head()"
   ]
  },
  {
   "cell_type": "code",
   "execution_count": 27,
   "metadata": {},
   "outputs": [
    {
     "data": {
      "image/png": "[encoded data removed]",
      "text/plain": [
       "<Figure size 864x720 with 1 Axes>"
      ]
     },
     "metadata": {
      "needs_background": "light"
     },
     "output_type": "display_data"
    }
   ],
   "source": [
    "\n",
    "import matplotlib.pyplot as plt\n",
    "import matplotlib.image as mpimg\n",
    "\n",
    "fig, ax = plt.subplots(1, 1, figsize=(12, 10))\n",
    "\n",
    "new_result.plot(column='elevation', ax=ax, legend=True, cmap=\"terrain\")\n",
    "plt.title(\"IA_FullStat\")\n",
    "plt.xlabel('Longitude')\n",
    "plt.ylabel('Latitude')\n",
    "plt.savefig('../assets/img/heatmap.png', dpi=120)\n",
    "plt.axis('off')\n",
    "plt.close()\n",
    "fig, ax = plt.subplots(1, 1, figsize=(12, 10))\n",
    "img = mpimg.imread('../assets/img/heatmap.png')\n",
    "imgplot = plt.imshow(img)\n",
    "plt.axis('off')\n",
    "plt.show()\n"
   ]
  },
  {
   "cell_type": "code",
   "execution_count": 25,
   "metadata": {},
   "outputs": [
    {
     "name": "stdout",
     "output_type": "stream",
     "text": [
      "Reading Las File from : IA_FullState.las\n"
     ]
    }
   ],
   "source": [
    "point_cloud=lp.read_laz()"
   ]
  },
  {
   "cell_type": "code",
   "execution_count": 26,
   "metadata": {},
   "outputs": [],
   "source": [
    "points = np.vstack((point_cloud.x, point_cloud.y, point_cloud.z)).transpose(1,0)\n",
    "colors = np.vstack((point_cloud.red, point_cloud.green, point_cloud.blue)).transpose()\n"
   ]
  },
  {
   "cell_type": "code",
   "execution_count": 27,
   "metadata": {},
   "outputs": [
    {
     "data": {
      "text/plain": [
       "array([[-93.77,  41.93, 321.77],\n",
       "       [-93.77,  41.93, 321.81],\n",
       "       [-93.77,  41.93, 321.88],\n",
       "       ...,\n",
       "       [-93.77,  41.93, 311.15],\n",
       "       [-93.77,  41.94, 310.9 ],\n",
       "       [-93.77,  41.93, 311.25]])"
      ]
     },
     "execution_count": 27,
     "metadata": {},
     "output_type": "execute_result"
    }
   ],
   "source": [
    "points"
   ]
  },
  {
   "cell_type": "code",
   "execution_count": 14,
   "metadata": {},
   "outputs": [],
   "source": [
    "import laspy\n",
    "# import open3d as o3d\n",
    "import numpy as np\n",
    "import laspy.header\n",
    "header = laspy.header.Header()"
   ]
  },
  {
   "cell_type": "code",
   "execution_count": 15,
   "metadata": {},
   "outputs": [],
   "source": [
    "input_las = laspy.file.File(\"./IA_FullState.las\", mode=\"r\")"
   ]
  },
  {
   "cell_type": "code",
   "execution_count": 16,
   "metadata": {},
   "outputs": [],
   "source": [
    "factor=160\n",
    "decimated_points_random = points[::factor]"
   ]
  },
  {
   "cell_type": "code",
   "execution_count": 18,
   "metadata": {},
   "outputs": [],
   "source": [
    "# def visualize3D(self,data:gpd.GeoDataFrame)->None:\n",
    "#         \"\"\"Create a 3D pointcloud Visualization\n",
    "\n",
    "#         Args:\n",
    "#             data (GeoDataFrame): Dataframe to be visualized\n",
    "#         \"\"\" \n",
    "        \n",
    "#         # logger.info('Visualization 3D Started')\n",
    "#         fig = plt.figure()\n",
    "#         ax = fig.add_subplot(111,projection='3d')\n",
    "#         ax.scatter( data.geometry.x,data.geometry.y,data.elevation, cmap='Spectral_r',s=0.001, c=data.elevation)\n",
    "#         ax.set_xlabel('Longitude')\n",
    "#         ax.set_ylabel('Latitude')\n",
    "#         ax.set_zlabel('Elevation')\n",
    "#         plt.show()\n",
    "#         return fig"
   ]
  },
  {
   "cell_type": "code",
   "execution_count": 21,
   "metadata": {},
   "outputs": [],
   "source": [
    "# import matplotlib.pyplot as plt\n",
    "# decimated_colors = colors[::factor]\n",
    "# # ax = plt.axes(projection='3d')\n",
    "# # ax.scatter(decimated_points_random[:,0], decimated_points_random[:,1], decimated_points_random[:,2], c = decimated_colors/65535, s=0.01)\n",
    "# # plt.show()\n",
    "# fig = plt.figure()\n",
    "# ax = fig.add_subplot(111,projection='3d')\n",
    "# ax.scatter( read_geo_csv.geometry.x,new_result.geometry.y,new_result.elevation, cmap='Spectral_r',s=0.002, c=new_result.elevation)\n",
    "# ax.set_xlabel('Longitude')\n",
    "# ax.set_ylabel('Latitude')\n",
    "# ax.set_zlabel('Elevation')\n",
    "# plt.show()\n"
   ]
  },
  {
   "cell_type": "code",
   "execution_count": 22,
   "metadata": {},
   "outputs": [],
   "source": [
    "import numpy as np\n",
    "import laspy\n",
    "from mpl_toolkits.mplot3d import Axes3D\n",
    "import matplotlib.pyplot as plt\n",
    "from mpl_toolkits.mplot3d.axes3d import get_test_data"
   ]
  },
  {
   "cell_type": "code",
   "execution_count": 23,
   "metadata": {},
   "outputs": [
    {
     "data": {
      "image/png": "[encoded data removed]",
      "text/plain": [
       "<Figure size 432x288 with 1 Axes>"
      ]
     },
     "metadata": {
      "needs_background": "light"
     },
     "output_type": "display_data"
    }
   ],
   "source": [
    "input_las = laspy.file.File(\"./IA_FullState.las\", mode=\"r\")\n",
    "point_records = input_las.points.copy()\n",
    "\n",
    "# getting scaling and offset parameters\n",
    "las_scaleX = input_las.header.scale[0]\n",
    "las_offsetX = input_las.header.offset[0]\n",
    "las_scaleY = input_las.header.scale[1]\n",
    "las_offsetY = input_las.header.offset[1]\n",
    "las_scaleZ = input_las.header.scale[2]\n",
    "las_offsetZ = input_las.header.offset[2]\n",
    "\n",
    "# calculating coordinates\n",
    "p_X = np.array((point_records['point']['X'] * las_scaleX) + las_offsetX)\n",
    "p_Y = np.array((point_records['point']['Y'] * las_scaleY) + las_offsetY)\n",
    "p_Z = np.array((point_records['point']['Z'] * las_scaleZ) + las_offsetZ)\n",
    "\n",
    "# plotting points\n",
    "fig = plt.figure()\n",
    "ax = fig.add_subplot(111, projection='3d')\n",
    "ax.scatter(p_X, p_Y, p_Z, c='r', marker='o')\n",
    "\n",
    "# X, Y, Z = get_test_data(0.05)\n",
    "# ax.plot_wireframe(X, Y, Z, rstride=10, cstride=10)\n",
    "plt.show()"
   ]
  }
 ],
 "metadata": {
  "kernelspec": {
   "display_name": "Python 3.9.12 ('base')",
   "language": "python",
   "name": "python3"
  },
  "language_info": {
   "codemirror_mode": {
    "name": "ipython",
    "version": 3
   },
   "file_extension": ".py",
   "mimetype": "text/x-python",
   "name": "python",
   "nbconvert_exporter": "python",
   "pygments_lexer": "ipython3",
   "version": "3.9.12"
  },
  "orig_nbformat": 4,
  "vscode": {
   "interpreter": {
    "hash": "19d1d53a962d236aa061289c2ac16dc8e6d9648c89fe79f459ae9a3493bc67b4"
   }
  }
 },
 "nbformat": 4,
 "nbformat_minor": 2
}
